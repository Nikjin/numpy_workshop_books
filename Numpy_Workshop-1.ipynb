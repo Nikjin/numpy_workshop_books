{
  "nbformat": 4,
  "nbformat_minor": 0,
  "metadata": {
    "colab": {
      "name": "Numpy Workshop.ipynb",
      "provenance": [],
      "collapsed_sections": [
        "1l9CeKH4w9CQ",
        "loM8Mz906pP_",
        "jfwkTLgt9CKA",
        "rZQc6rLTCCCK",
        "KMaKEShrD0ZF",
        "rTLxIszyIpSF",
        "b4h-RgZwMrPu"
      ]
    },
    "kernelspec": {
      "name": "python3",
      "display_name": "Python 3"
    },
    "accelerator": "GPU"
  },
  "cells": [
    {
      "cell_type": "markdown",
      "metadata": {
        "id": "nwGF_lGWzQJt",
        "colab_type": "text"
      },
      "source": [
        "#**Array Creation**\n",
        "There are several ways to create arrays.\n",
        "\n",
        "For example, you can create an array from a regular **Python list or tuple** using the array function. The type of the resulting array is deduced from the type of the elements in the sequences."
      ]
    },
    {
      "cell_type": "code",
      "metadata": {
        "id": "3_47qIAcHLZN",
        "colab_type": "code",
        "colab": {}
      },
      "source": [
        "import numpy as np\n"
      ],
      "execution_count": null,
      "outputs": []
    },
    {
      "cell_type": "code",
      "metadata": {
        "id": "yG266YrFzTcq",
        "colab_type": "code",
        "colab": {
          "base_uri": "https://localhost:8080/",
          "height": 51
        },
        "outputId": "7fb54cc6-6e58-4e26-ef15-a7f8b1781134"
      },
      "source": [
        "a = np.array([2,3,4])\n",
        "print(a)\n",
        "a.dtype"
      ],
      "execution_count": null,
      "outputs": [
        {
          "output_type": "stream",
          "text": [
            "[2 3 4]\n"
          ],
          "name": "stdout"
        },
        {
          "output_type": "execute_result",
          "data": {
            "text/plain": [
              "dtype('int64')"
            ]
          },
          "metadata": {
            "tags": []
          },
          "execution_count": 4
        }
      ]
    },
    {
      "cell_type": "code",
      "metadata": {
        "id": "zI8FaJhP1y8S",
        "colab_type": "code",
        "colab": {
          "base_uri": "https://localhost:8080/",
          "height": 51
        },
        "outputId": "bab7644a-31a5-4e35-f73e-a76ce1cf7e63"
      },
      "source": [
        "b = np.array([1.2,3.5,5.1])\n",
        "print(b)\n",
        "b.dtype"
      ],
      "execution_count": null,
      "outputs": [
        {
          "output_type": "stream",
          "text": [
            "[1.2 3.5 5.1]\n"
          ],
          "name": "stdout"
        },
        {
          "output_type": "execute_result",
          "data": {
            "text/plain": [
              "dtype('float64')"
            ]
          },
          "metadata": {
            "tags": []
          },
          "execution_count": 5
        }
      ]
    },
    {
      "cell_type": "markdown",
      "metadata": {
        "id": "O93chOq14cKo",
        "colab_type": "text"
      },
      "source": [
        "array transforms sequences of sequences into two-dimensional arrays, sequences of sequences of sequences into three-dimensional arrays, and so on.\n",
        "\n"
      ]
    },
    {
      "cell_type": "code",
      "metadata": {
        "id": "f9KHGRX02WAo",
        "colab_type": "code",
        "colab": {
          "base_uri": "https://localhost:8080/",
          "height": 51
        },
        "outputId": "ced8c06c-9211-4e13-9c31-ce4f69e30645"
      },
      "source": [
        "b = np.array([(1.5,2,3), (4,5,6)])\n",
        "b"
      ],
      "execution_count": null,
      "outputs": [
        {
          "output_type": "execute_result",
          "data": {
            "text/plain": [
              "array([[1.5, 2. , 3. ],\n",
              "       [4. , 5. , 6. ]])"
            ]
          },
          "metadata": {
            "tags": []
          },
          "execution_count": 6
        }
      ]
    },
    {
      "cell_type": "code",
      "metadata": {
        "id": "8bxtArh74lYY",
        "colab_type": "code",
        "colab": {
          "base_uri": "https://localhost:8080/",
          "height": 51
        },
        "outputId": "09ff091b-3a2c-4468-f86c-cab1f3800e51"
      },
      "source": [
        "c = np.array( [ [1,2 + 3j], [3,4] ], dtype=complex ) #The type of the array can also be explicitly specified at creation time:\n",
        "c"
      ],
      "execution_count": null,
      "outputs": [
        {
          "output_type": "execute_result",
          "data": {
            "text/plain": [
              "array([[1.+0.j, 2.+3.j],\n",
              "       [3.+0.j, 4.+0.j]])"
            ]
          },
          "metadata": {
            "tags": []
          },
          "execution_count": 7
        }
      ]
    },
    {
      "cell_type": "markdown",
      "metadata": {
        "id": "PpyC26nA4x8H",
        "colab_type": "text"
      },
      "source": [
        "Often, the elements of an array are originally unknown, but its size is known. Hence, NumPy offers several functions to create arrays with initial placeholder content. These minimize the necessity of growing arrays, an expensive operation.\n",
        "\n",
        "The function zeros creates an array full of zeros, the function ones creates an array full of ones, and the function empty creates an array whose initial content is random and depends on the state of the memory. By default, the dtype of the created array is float64."
      ]
    },
    {
      "cell_type": "code",
      "metadata": {
        "id": "QrHRKozR41vP",
        "colab_type": "code",
        "colab": {
          "base_uri": "https://localhost:8080/",
          "height": 68
        },
        "outputId": "8a37d30a-05de-430a-a891-c2b193f3d725"
      },
      "source": [
        "np.zeros((3,4))"
      ],
      "execution_count": null,
      "outputs": [
        {
          "output_type": "execute_result",
          "data": {
            "text/plain": [
              "array([[0., 0., 0., 0.],\n",
              "       [0., 0., 0., 0.],\n",
              "       [0., 0., 0., 0.]])"
            ]
          },
          "metadata": {
            "tags": []
          },
          "execution_count": 8
        }
      ]
    },
    {
      "cell_type": "code",
      "metadata": {
        "id": "jCBTAPdh4-u4",
        "colab_type": "code",
        "colab": {
          "base_uri": "https://localhost:8080/",
          "height": 136
        },
        "outputId": "fefc641a-45e9-42dc-921d-919cfc873202"
      },
      "source": [
        "np.ones((2,3,4))"
      ],
      "execution_count": null,
      "outputs": [
        {
          "output_type": "execute_result",
          "data": {
            "text/plain": [
              "array([[[1., 1., 1., 1.],\n",
              "        [1., 1., 1., 1.],\n",
              "        [1., 1., 1., 1.]],\n",
              "\n",
              "       [[1., 1., 1., 1.],\n",
              "        [1., 1., 1., 1.],\n",
              "        [1., 1., 1., 1.]]])"
            ]
          },
          "metadata": {
            "tags": []
          },
          "execution_count": 9
        }
      ]
    },
    {
      "cell_type": "code",
      "metadata": {
        "id": "RK6xIbwE5Hhw",
        "colab_type": "code",
        "colab": {
          "base_uri": "https://localhost:8080/",
          "height": 51
        },
        "outputId": "1dab894b-9943-4913-900a-1a75eadf8ae1"
      },
      "source": [
        "np.empty((2,3)) #unintialized"
      ],
      "execution_count": null,
      "outputs": [
        {
          "output_type": "execute_result",
          "data": {
            "text/plain": [
              "array([[1.5, 2. , 3. ],\n",
              "       [4. , 5. , 6. ]])"
            ]
          },
          "metadata": {
            "tags": []
          },
          "execution_count": 10
        }
      ]
    },
    {
      "cell_type": "code",
      "metadata": {
        "id": "EFk--cLM5Qey",
        "colab_type": "code",
        "colab": {
          "base_uri": "https://localhost:8080/",
          "height": 68
        },
        "outputId": "888f111d-2c61-4fa9-b782-69a89516af30"
      },
      "source": [
        "print(np.arange(10))  \n",
        "print(np.arange(10,30,5)) #Last number(30) is not inclusive here\n",
        "print(np.arange(0,2,0.3)) #accepts float arguments\n",
        "\n"
      ],
      "execution_count": null,
      "outputs": [
        {
          "output_type": "stream",
          "text": [
            "[0 1 2 3 4 5 6 7 8 9]\n",
            "[10 15 20 25]\n",
            "[0.  0.3 0.6 0.9 1.2 1.5 1.8]\n"
          ],
          "name": "stdout"
        }
      ]
    },
    {
      "cell_type": "code",
      "metadata": {
        "id": "uMQ9c_s45i7R",
        "colab_type": "code",
        "colab": {
          "base_uri": "https://localhost:8080/",
          "height": 34
        },
        "outputId": "6ade8f49-e31e-40a7-a3d7-c8a196d7a511"
      },
      "source": [
        "np.linspace(0,2,9) #0 and 2 both are inclusive here\n",
        "# 9 numbers from 0 to 2"
      ],
      "execution_count": null,
      "outputs": [
        {
          "output_type": "execute_result",
          "data": {
            "text/plain": [
              "array([0.  , 0.25, 0.5 , 0.75, 1.  , 1.25, 1.5 , 1.75, 2.  ])"
            ]
          },
          "metadata": {
            "tags": []
          },
          "execution_count": 12
        }
      ]
    },
    {
      "cell_type": "markdown",
      "metadata": {
        "id": "1l9CeKH4w9CQ",
        "colab_type": "text"
      },
      "source": [
        "#**ATTRIBUTES OF ndarray**\n",
        "\n",
        "**ndarray.ndim**\n",
        "the number of axes (dimensions) of the array.\n",
        "\n",
        "**ndarray.shape**\n",
        "the dimensions of the array. This is a tuple of integers indicating the size of the array in each dimension. For a matrix with n rows and m columns, shape will be (n,m). The length of the shape tuple is therefore the number of axes, ndim.\n",
        "\n",
        "**ndarray.size**\n",
        "the total number of elements of the array. This is equal to the product of the elements of shape.\n",
        "\n",
        "**ndarray.dtype**\n",
        "an object describing the type of the elements in the array. One can create or specify dtype’s using standard Python types. Additionally NumPy provides types of its own. numpy.int32, numpy.int16, and numpy.float64 are some examples.\n",
        "\n",
        "**ndarray.itemsize**\n",
        "the size in bytes of each element of the array. For example, an array of elements of type float64 has itemsize 8 (=64/8), while one of type complex32 has itemsize 4 (=32/8). It is equivalent to ndarray.dtype.itemsize.\n",
        "\n",
        "**ndarray.data**\n",
        "the buffer containing the actual elements of the array. Normally, we won’t need to use this attribute because we will access the elements in an array using indexing facilities."
      ]
    },
    {
      "cell_type": "code",
      "metadata": {
        "id": "Sv0LTovyx0R2",
        "colab_type": "code",
        "colab": {
          "base_uri": "https://localhost:8080/",
          "height": 68
        },
        "outputId": "ce2facf0-2d54-4924-8086-eb3d2078975d"
      },
      "source": [
        "a = np.arange(15).reshape(3, 5)\n",
        "a"
      ],
      "execution_count": null,
      "outputs": [
        {
          "output_type": "execute_result",
          "data": {
            "text/plain": [
              "array([[ 0,  1,  2,  3,  4],\n",
              "       [ 5,  6,  7,  8,  9],\n",
              "       [10, 11, 12, 13, 14]])"
            ]
          },
          "metadata": {
            "tags": []
          },
          "execution_count": 13
        }
      ]
    },
    {
      "cell_type": "code",
      "metadata": {
        "id": "29bWJg6px7me",
        "colab_type": "code",
        "colab": {
          "base_uri": "https://localhost:8080/",
          "height": 34
        },
        "outputId": "1b43babd-6937-4476-bc26-ace8c1f9dc3d"
      },
      "source": [
        "a.shape"
      ],
      "execution_count": null,
      "outputs": [
        {
          "output_type": "execute_result",
          "data": {
            "text/plain": [
              "(3, 5)"
            ]
          },
          "metadata": {
            "tags": []
          },
          "execution_count": 14
        }
      ]
    },
    {
      "cell_type": "code",
      "metadata": {
        "id": "zKPAvQZCyK9p",
        "colab_type": "code",
        "colab": {
          "base_uri": "https://localhost:8080/",
          "height": 34
        },
        "outputId": "48a34af3-d1a5-4521-b158-b406d64ad632"
      },
      "source": [
        "a.ndim"
      ],
      "execution_count": null,
      "outputs": [
        {
          "output_type": "execute_result",
          "data": {
            "text/plain": [
              "2"
            ]
          },
          "metadata": {
            "tags": []
          },
          "execution_count": 15
        }
      ]
    },
    {
      "cell_type": "code",
      "metadata": {
        "id": "J_CVVBkPyMVo",
        "colab_type": "code",
        "colab": {
          "base_uri": "https://localhost:8080/",
          "height": 34
        },
        "outputId": "ed5530c8-a508-4f03-91db-69673a4a6a76"
      },
      "source": [
        "a.dtype"
      ],
      "execution_count": null,
      "outputs": [
        {
          "output_type": "execute_result",
          "data": {
            "text/plain": [
              "dtype('int64')"
            ]
          },
          "metadata": {
            "tags": []
          },
          "execution_count": 16
        }
      ]
    },
    {
      "cell_type": "code",
      "metadata": {
        "id": "LoKgIHI_yN3o",
        "colab_type": "code",
        "colab": {
          "base_uri": "https://localhost:8080/",
          "height": 34
        },
        "outputId": "b6cb55b2-cf04-401f-aa63-06587083c409"
      },
      "source": [
        "a.size"
      ],
      "execution_count": null,
      "outputs": [
        {
          "output_type": "execute_result",
          "data": {
            "text/plain": [
              "15"
            ]
          },
          "metadata": {
            "tags": []
          },
          "execution_count": 17
        }
      ]
    },
    {
      "cell_type": "code",
      "metadata": {
        "id": "sijvTxU-yQbt",
        "colab_type": "code",
        "colab": {}
      },
      "source": [
        "a.itemsize"
      ],
      "execution_count": null,
      "outputs": []
    },
    {
      "cell_type": "code",
      "metadata": {
        "id": "e9LkECAhySG9",
        "colab_type": "code",
        "colab": {}
      },
      "source": [
        "type(a)"
      ],
      "execution_count": null,
      "outputs": []
    },
    {
      "cell_type": "code",
      "metadata": {
        "id": "W1ybwsXsyT7f",
        "colab_type": "code",
        "colab": {}
      },
      "source": [
        "b = np.array([6, 7, 8])\n",
        "print(b)\n",
        "print(b.shape)\n",
        "print(type(b))\n",
        "b.dtype"
      ],
      "execution_count": null,
      "outputs": []
    },
    {
      "cell_type": "markdown",
      "metadata": {
        "id": "loM8Mz906pP_",
        "colab_type": "text"
      },
      "source": [
        "#**Printing Arrays**\n",
        "\n",
        "When you print an array, NumPy displays it in a similar way to nested lists, but with the following layout:\n",
        "\n",
        "\n",
        "*   the last axis is printed from left to right,\n",
        "*   the second-to-last is printed from top to bottom,\n",
        "*   the rest are also printed from top to bottom, with each slice separated from the next by an empty line.\n",
        "\n",
        "\n",
        "One-dimensional arrays are then printed as rows, bidimensionals as matrices and tridimensionals as lists of matrices.\n"
      ]
    },
    {
      "cell_type": "code",
      "metadata": {
        "id": "IWKx2rHT70rm",
        "colab_type": "code",
        "colab": {
          "base_uri": "https://localhost:8080/",
          "height": 34
        },
        "outputId": "d3102f49-8dfb-4eb5-a66e-acbde68e5289"
      },
      "source": [
        "a = np.arange(6)  \n",
        "a"
      ],
      "execution_count": null,
      "outputs": [
        {
          "output_type": "execute_result",
          "data": {
            "text/plain": [
              "array([0, 1, 2, 3, 4, 5])"
            ]
          },
          "metadata": {
            "tags": []
          },
          "execution_count": 15
        }
      ]
    },
    {
      "cell_type": "code",
      "metadata": {
        "id": "RU3w48gb78UV",
        "colab_type": "code",
        "colab": {
          "base_uri": "https://localhost:8080/",
          "height": 85
        },
        "outputId": "b1a1f63a-c071-4707-b1bc-cd1b6b444d18"
      },
      "source": [
        "b = np.arange(12).reshape(4,3) #2d array\n",
        "b"
      ],
      "execution_count": null,
      "outputs": [
        {
          "output_type": "execute_result",
          "data": {
            "text/plain": [
              "array([[ 0,  1,  2],\n",
              "       [ 3,  4,  5],\n",
              "       [ 6,  7,  8],\n",
              "       [ 9, 10, 11]])"
            ]
          },
          "metadata": {
            "tags": []
          },
          "execution_count": 16
        }
      ]
    },
    {
      "cell_type": "code",
      "metadata": {
        "id": "35_r3GoJ7_xE",
        "colab_type": "code",
        "colab": {
          "base_uri": "https://localhost:8080/",
          "height": 136
        },
        "outputId": "7548fad6-a709-4f9b-f5ad-e156d2284417"
      },
      "source": [
        "c = np.arange(24).reshape(2,3,4) #3d array\n",
        "c"
      ],
      "execution_count": null,
      "outputs": [
        {
          "output_type": "execute_result",
          "data": {
            "text/plain": [
              "array([[[ 0,  1,  2,  3],\n",
              "        [ 4,  5,  6,  7],\n",
              "        [ 8,  9, 10, 11]],\n",
              "\n",
              "       [[12, 13, 14, 15],\n",
              "        [16, 17, 18, 19],\n",
              "        [20, 21, 22, 23]]])"
            ]
          },
          "metadata": {
            "tags": []
          },
          "execution_count": 17
        }
      ]
    },
    {
      "cell_type": "code",
      "metadata": {
        "id": "q98VUsta8G8I",
        "colab_type": "code",
        "colab": {
          "base_uri": "https://localhost:8080/",
          "height": 153
        },
        "outputId": "effc5f29-23a9-455b-c233-56055fc8d52b"
      },
      "source": [
        "print(np.arange(10000))\n",
        "print(np.arange(10000).reshape(100,100))\n",
        "\n"
      ],
      "execution_count": null,
      "outputs": [
        {
          "output_type": "stream",
          "text": [
            "[   0    1    2 ... 9997 9998 9999]\n",
            "[[   0    1    2 ...   97   98   99]\n",
            " [ 100  101  102 ...  197  198  199]\n",
            " [ 200  201  202 ...  297  298  299]\n",
            " ...\n",
            " [9700 9701 9702 ... 9797 9798 9799]\n",
            " [9800 9801 9802 ... 9897 9898 9899]\n",
            " [9900 9901 9902 ... 9997 9998 9999]]\n"
          ],
          "name": "stdout"
        }
      ]
    },
    {
      "cell_type": "code",
      "metadata": {
        "id": "nLnRc6zO8UQt",
        "colab_type": "code",
        "colab": {}
      },
      "source": [
        ""
      ],
      "execution_count": null,
      "outputs": []
    },
    {
      "cell_type": "markdown",
      "metadata": {
        "id": "jfwkTLgt9CKA",
        "colab_type": "text"
      },
      "source": [
        "#**Basic Operations**\n",
        "\n",
        "Arithmetic operators on arrays apply elementwise. A new array is created and filled with the result."
      ]
    },
    {
      "cell_type": "code",
      "metadata": {
        "id": "npsgz55_9J1M",
        "colab_type": "code",
        "colab": {
          "base_uri": "https://localhost:8080/",
          "height": 51
        },
        "outputId": "e194179d-108a-40ab-febd-595a124fe3a8"
      },
      "source": [
        "a = np.array( [20,30,40,50] )\n",
        "b =np.arange(4)\n",
        "print(a)\n",
        "print(b)"
      ],
      "execution_count": null,
      "outputs": [
        {
          "output_type": "stream",
          "text": [
            "[20 30 40 50]\n",
            "[0 1 2 3]\n"
          ],
          "name": "stdout"
        }
      ]
    },
    {
      "cell_type": "code",
      "metadata": {
        "id": "z0vPxCLd9VLl",
        "colab_type": "code",
        "colab": {
          "base_uri": "https://localhost:8080/",
          "height": 34
        },
        "outputId": "6cd20d32-935e-4f0b-9cb5-b422b7c9a649"
      },
      "source": [
        "c = a-b #subtraction\n",
        "c"
      ],
      "execution_count": null,
      "outputs": [
        {
          "output_type": "execute_result",
          "data": {
            "text/plain": [
              "array([20, 29, 38, 47])"
            ]
          },
          "metadata": {
            "tags": []
          },
          "execution_count": 20
        }
      ]
    },
    {
      "cell_type": "code",
      "metadata": {
        "id": "BHjJPJvB9Ykb",
        "colab_type": "code",
        "colab": {
          "base_uri": "https://localhost:8080/",
          "height": 34
        },
        "outputId": "b6ba26f8-42b0-492e-97c1-e03e7d397b5f"
      },
      "source": [
        "b**2  #square"
      ],
      "execution_count": null,
      "outputs": [
        {
          "output_type": "execute_result",
          "data": {
            "text/plain": [
              "array([ 0,  1,  8, 27])"
            ]
          },
          "metadata": {
            "tags": []
          },
          "execution_count": 22
        }
      ]
    },
    {
      "cell_type": "code",
      "metadata": {
        "id": "saEQ9T9S9Zdw",
        "colab_type": "code",
        "colab": {
          "base_uri": "https://localhost:8080/",
          "height": 34
        },
        "outputId": "fba4efd9-a343-4a31-eae3-926a0963371d"
      },
      "source": [
        "10*np.sin(a)  #multiplication and sin\n"
      ],
      "execution_count": null,
      "outputs": [
        {
          "output_type": "execute_result",
          "data": {
            "text/plain": [
              "array([ 9.12945251, -9.88031624,  7.4511316 , -2.62374854])"
            ]
          },
          "metadata": {
            "tags": []
          },
          "execution_count": 27
        }
      ]
    },
    {
      "cell_type": "code",
      "metadata": {
        "id": "9lL1EWJI9fTi",
        "colab_type": "code",
        "colab": {
          "base_uri": "https://localhost:8080/",
          "height": 34
        },
        "outputId": "c9f01904-8e94-4f8d-faf7-e9881ba434b2"
      },
      "source": [
        "a<35  #condition check"
      ],
      "execution_count": null,
      "outputs": [
        {
          "output_type": "execute_result",
          "data": {
            "text/plain": [
              "array([ True,  True, False, False])"
            ]
          },
          "metadata": {
            "tags": []
          },
          "execution_count": 28
        }
      ]
    },
    {
      "cell_type": "code",
      "metadata": {
        "id": "Mafwrrmt9tNc",
        "colab_type": "code",
        "colab": {
          "base_uri": "https://localhost:8080/",
          "height": 51
        },
        "outputId": "a1147e6c-252c-45bc-f588-756e7446b578"
      },
      "source": [
        "A = np.array( [[1,1],\n",
        "               [0,1]] )\n",
        "B = np.array( [[2,0],\n",
        "                [3,4]] )\n",
        "\n",
        "A*B  # element wise product"
      ],
      "execution_count": null,
      "outputs": [
        {
          "output_type": "execute_result",
          "data": {
            "text/plain": [
              "array([[2, 0],\n",
              "       [0, 4]])"
            ]
          },
          "metadata": {
            "tags": []
          },
          "execution_count": 29
        }
      ]
    },
    {
      "cell_type": "code",
      "metadata": {
        "id": "w-gLTR_j-G2n",
        "colab_type": "code",
        "colab": {
          "base_uri": "https://localhost:8080/",
          "height": 51
        },
        "outputId": "60d81aa0-5a4d-46df-d2f3-1832f57271e2"
      },
      "source": [
        "A @ B #matrix product"
      ],
      "execution_count": null,
      "outputs": [
        {
          "output_type": "execute_result",
          "data": {
            "text/plain": [
              "array([[5, 4],\n",
              "       [3, 4]])"
            ]
          },
          "metadata": {
            "tags": []
          },
          "execution_count": 30
        }
      ]
    },
    {
      "cell_type": "code",
      "metadata": {
        "id": "QmCbRBTp-LN6",
        "colab_type": "code",
        "colab": {
          "base_uri": "https://localhost:8080/",
          "height": 51
        },
        "outputId": "18e37aa2-a885-4941-d5be-fe0a4ec98013"
      },
      "source": [
        "A.dot(B)  #another matrix product same as above"
      ],
      "execution_count": null,
      "outputs": [
        {
          "output_type": "execute_result",
          "data": {
            "text/plain": [
              "array([[5, 4],\n",
              "       [3, 4]])"
            ]
          },
          "metadata": {
            "tags": []
          },
          "execution_count": 31
        }
      ]
    },
    {
      "cell_type": "code",
      "metadata": {
        "id": "DnftIEQm-Q4A",
        "colab_type": "code",
        "colab": {
          "base_uri": "https://localhost:8080/",
          "height": 51
        },
        "outputId": "6d1d4ecc-fd6f-4320-a51e-031e1391c06f"
      },
      "source": [
        "rg = np.random.default_rng(1)     # create instance of default random number generator\n",
        "a = np.ones((2,3), dtype=int)\n",
        "b = rg.random((2,3))\n",
        "a *= 3\n",
        "a\n"
      ],
      "execution_count": null,
      "outputs": [
        {
          "output_type": "execute_result",
          "data": {
            "text/plain": [
              "array([[3, 3, 3],\n",
              "       [3, 3, 3]])"
            ]
          },
          "metadata": {
            "tags": []
          },
          "execution_count": 51
        }
      ]
    },
    {
      "cell_type": "code",
      "metadata": {
        "id": "eMWxB589-bLE",
        "colab_type": "code",
        "colab": {
          "base_uri": "https://localhost:8080/",
          "height": 85
        },
        "outputId": "b1e62005-aef3-482f-bb94-dab8c90e0c88"
      },
      "source": [
        "print(b)\n",
        "b+=a\n",
        "b"
      ],
      "execution_count": null,
      "outputs": [
        {
          "output_type": "stream",
          "text": [
            "[[0.51182162 0.9504637  0.14415961]\n",
            " [0.94864945 0.31183145 0.42332645]]\n"
          ],
          "name": "stdout"
        },
        {
          "output_type": "execute_result",
          "data": {
            "text/plain": [
              "array([[3.51182162, 3.9504637 , 3.14415961],\n",
              "       [3.94864945, 3.31183145, 3.42332645]])"
            ]
          },
          "metadata": {
            "tags": []
          },
          "execution_count": 52
        }
      ]
    },
    {
      "cell_type": "code",
      "metadata": {
        "id": "aTdaRyZE_qWs",
        "colab_type": "code",
        "colab": {}
      },
      "source": [
        "#a+=b  \n",
        "## b is not automatically converted to integer type"
      ],
      "execution_count": null,
      "outputs": []
    },
    {
      "cell_type": "code",
      "metadata": {
        "id": "AZY6BRrH_vix",
        "colab_type": "code",
        "colab": {
          "base_uri": "https://localhost:8080/",
          "height": 102
        },
        "outputId": "8cb2641c-00c0-4c17-f681-91f5e806ebe0"
      },
      "source": [
        "a = rg.random((2,3))\n",
        "print(a)\n",
        "print(a.sum())\n",
        "print(a.min())\n",
        "print(a.max())\n",
        "\n",
        "\n"
      ],
      "execution_count": null,
      "outputs": [
        {
          "output_type": "stream",
          "text": [
            "[[0.82770259 0.40919914 0.54959369]\n",
            " [0.02755911 0.75351311 0.53814331]]\n",
            "3.1057109529998157\n",
            "0.027559113243068367\n",
            "0.8277025938204418\n"
          ],
          "name": "stdout"
        }
      ]
    },
    {
      "cell_type": "code",
      "metadata": {
        "id": "vgoU0YFSBCuz",
        "colab_type": "code",
        "colab": {
          "base_uri": "https://localhost:8080/",
          "height": 255
        },
        "outputId": "8ece45e3-a4b8-4ef4-eb3f-7377c3bbb809"
      },
      "source": [
        "b = np.arange(12).reshape(3,4)\n",
        "print(b)\n",
        "print(\"--------------------------\")\n",
        "print(b.sum(axis =0))    # sum of each column\n",
        "print(\"--------------------------\")\n",
        "\n",
        "print(b.sum(axis =1))    # sum of each row\n",
        "print(\"--------------------------\")\n",
        "print(b.min(axis =1))    # min of each row\n",
        "print(\"--------------------------\")\n",
        "print(b.cumsum(axis =1))    # cumulative sum along each row\n",
        "print(\"--------------------------\")\n",
        "\n"
      ],
      "execution_count": null,
      "outputs": [
        {
          "output_type": "stream",
          "text": [
            "[[ 0  1  2  3]\n",
            " [ 4  5  6  7]\n",
            " [ 8  9 10 11]]\n",
            "--------------------------\n",
            "[12 15 18 21]\n",
            "--------------------------\n",
            "[ 6 22 38]\n",
            "--------------------------\n",
            "[0 4 8]\n",
            "--------------------------\n",
            "[[ 0  1  3  6]\n",
            " [ 4  9 15 22]\n",
            " [ 8 17 27 38]]\n",
            "--------------------------\n"
          ],
          "name": "stdout"
        }
      ]
    },
    {
      "cell_type": "markdown",
      "metadata": {
        "id": "rZQc6rLTCCCK",
        "colab_type": "text"
      },
      "source": [
        "#**Universal Functions**\n",
        "\n",
        "NumPy provides familiar mathematical functions such as sin, cos, and exp. In NumPy, these are called “universal functions”(ufunc). Within NumPy, these functions operate elementwise on an array, producing an array as output."
      ]
    },
    {
      "cell_type": "code",
      "metadata": {
        "id": "CnWId49-BNHy",
        "colab_type": "code",
        "colab": {
          "base_uri": "https://localhost:8080/",
          "height": 136
        },
        "outputId": "37459807-ebc3-4246-e1c3-2e39d57482f1"
      },
      "source": [
        "b = np.arange(3)\n",
        "print(b)\n",
        "print(\"--------------------------\")\n",
        "print(np.exp(b))\n",
        "print(\"--------------------------\")\n",
        "print(np.sqrt(b))\n",
        "print(\"--------------------------\")\n",
        "c = np.array([2.,-1.,4.])\n",
        "print(np.add(b,c))\n",
        "\n"
      ],
      "execution_count": null,
      "outputs": [
        {
          "output_type": "stream",
          "text": [
            "[0 1 2]\n",
            "--------------------------\n",
            "[1.         2.71828183 7.3890561 ]\n",
            "--------------------------\n",
            "[0.         1.         1.41421356]\n",
            "--------------------------\n",
            "[2. 0. 6.]\n"
          ],
          "name": "stdout"
        }
      ]
    },
    {
      "cell_type": "code",
      "metadata": {
        "id": "DkIc2jmQCkjw",
        "colab_type": "code",
        "colab": {}
      },
      "source": [
        ""
      ],
      "execution_count": null,
      "outputs": []
    },
    {
      "cell_type": "markdown",
      "metadata": {
        "id": "KMaKEShrD0ZF",
        "colab_type": "text"
      },
      "source": [
        "#**Indexing, Slicing and Iterating**\n",
        "\n"
      ]
    },
    {
      "cell_type": "markdown",
      "metadata": {
        "id": "O0VKTQD9D75N",
        "colab_type": "text"
      },
      "source": [
        "One-dimensional arrays can be indexed, sliced and iterated over, much like lists and other Python sequences.\n",
        "\n"
      ]
    },
    {
      "cell_type": "code",
      "metadata": {
        "id": "7MMRBHXvD6CQ",
        "colab_type": "code",
        "colab": {
          "base_uri": "https://localhost:8080/",
          "height": 411
        },
        "outputId": "37324ca2-fe4c-4c26-89e4-102ea396f86f"
      },
      "source": [
        "a = np.arange(10)**3\n",
        "print(a)\n",
        "print(\"--------------------------\")\n",
        "print(a[2])\n",
        "print(\"--------------------------\")\n",
        "print(a[2:5])\n",
        "# equivalent to a[0:6:2] = 1000;\n",
        "# from start to position 6, exclusive, set every 2nd element to 1000\n",
        "a[:6:2] = 1000\n",
        "print(\"--------------------------\")\n",
        "print(a)\n",
        "print(\"--------------------------\")\n",
        "print(a[: : -1])       # reversed a\n",
        "print(\"--------------------------\")\n",
        "print(a)\n",
        "print(\"--------------------------\")\n",
        "\n",
        "for i in a:\n",
        "  print(i**(1/3.))"
      ],
      "execution_count": null,
      "outputs": [
        {
          "output_type": "stream",
          "text": [
            "[  0   1   8  27  64 125 216 343 512 729]\n",
            "--------------------------\n",
            "8\n",
            "--------------------------\n",
            "[ 8 27 64]\n",
            "--------------------------\n",
            "[1000    1 1000   27 1000  125  216  343  512  729]\n",
            "--------------------------\n",
            "[ 729  512  343  216  125 1000   27 1000    1 1000]\n",
            "--------------------------\n",
            "[1000    1 1000   27 1000  125  216  343  512  729]\n",
            "--------------------------\n",
            "9.999999999999998\n",
            "1.0\n",
            "9.999999999999998\n",
            "3.0\n",
            "9.999999999999998\n",
            "4.999999999999999\n",
            "5.999999999999999\n",
            "6.999999999999999\n",
            "7.999999999999999\n",
            "8.999999999999998\n"
          ],
          "name": "stdout"
        }
      ]
    },
    {
      "cell_type": "markdown",
      "metadata": {
        "id": "H_WA3HugGrgX",
        "colab_type": "text"
      },
      "source": [
        "Multidimensional arrays can have one index per axis. These indices are given in a tuple separated by commas"
      ]
    },
    {
      "cell_type": "code",
      "metadata": {
        "id": "bB3B2QbqECKD",
        "colab_type": "code",
        "colab": {
          "base_uri": "https://localhost:8080/",
          "height": 122
        },
        "outputId": "edb1493e-530c-4976-a82b-bf75eac55dec"
      },
      "source": [
        "def f(x,y):\n",
        "  return 10*x+y\n",
        "\n",
        "b = np.fromfunction(f,(5,4),dtype=int)\n",
        "b"
      ],
      "execution_count": null,
      "outputs": [
        {
          "output_type": "execute_result",
          "data": {
            "text/plain": [
              "array([[ 0,  1,  2,  3],\n",
              "       [10, 11, 12, 13],\n",
              "       [20, 21, 22, 23],\n",
              "       [30, 31, 32, 33],\n",
              "       [40, 41, 42, 43]])"
            ]
          },
          "metadata": {
            "tags": []
          },
          "execution_count": 39
        }
      ]
    },
    {
      "cell_type": "code",
      "metadata": {
        "id": "XurHyv9SG-Wn",
        "colab_type": "code",
        "colab": {
          "base_uri": "https://localhost:8080/",
          "height": 309
        },
        "outputId": "ede2a8ee-aa05-43e6-e809-bb762f4faab8"
      },
      "source": [
        "print(b[2,3])\n",
        "print(\"--------------------------\")\n",
        "print(b[0:5,1])   #each row in second column of b\n",
        "print(\"--------------------------\")\n",
        "print(b[:,1])  #equivalent to the previous example\n",
        "print(\"--------------------------\")\n",
        "print(b[1:3,:])     # each column in the second and third row of b\n",
        "print(\"--------------------------\")\n",
        "print(b[-1])         # the last row. Equivalent to b[-1,:]\n",
        "print(\"--------------------------\")\n",
        "for row in b:\n",
        "     print(row)"
      ],
      "execution_count": null,
      "outputs": [
        {
          "output_type": "stream",
          "text": [
            "23\n",
            "--------------------------\n",
            "[ 1 11 21 31 41]\n",
            "--------------------------\n",
            "[ 1 11 21 31 41]\n",
            "--------------------------\n",
            "[[10 11 12 13]\n",
            " [20 21 22 23]]\n",
            "--------------------------\n",
            "[40 41 42 43]\n",
            "--------------------------\n",
            "[0 1 2 3]\n",
            "[10 11 12 13]\n",
            "[20 21 22 23]\n",
            "[30 31 32 33]\n",
            "[40 41 42 43]\n"
          ],
          "name": "stdout"
        }
      ]
    },
    {
      "cell_type": "markdown",
      "metadata": {
        "id": "rTLxIszyIpSF",
        "colab_type": "text"
      },
      "source": [
        "#**Shape Manipulation**"
      ]
    },
    {
      "cell_type": "code",
      "metadata": {
        "id": "G9QLA5KFH484",
        "colab_type": "code",
        "colab": {
          "base_uri": "https://localhost:8080/",
          "height": 343
        },
        "outputId": "221371a7-83cd-4b92-f4af-14fa028809a5"
      },
      "source": [
        "a = np.floor(10*rg.random((3,4)))\n",
        "print(a)\n",
        "print(\"--------------------------\")\n",
        "print(a.shape)\n",
        "print(\"--------------------------\")\n",
        "print(a.ravel()) # returns the array, flattened\n",
        "print(\"--------------------------\")\n",
        "print(a.reshape(6,2)) # returns the array with a modified shape\n",
        "\n",
        "print(\"--------------------------\")\n",
        "print(a.T.shape) # returns the array, transposed\n",
        "\n",
        "print(\"--------------------------\")\n",
        "print(a.shape)\n",
        "# Note here that the shape of array is still (3,4)"
      ],
      "execution_count": null,
      "outputs": [
        {
          "output_type": "stream",
          "text": [
            "[[3. 7. 3. 4.]\n",
            " [1. 4. 2. 2.]\n",
            " [7. 2. 4. 9.]]\n",
            "--------------------------\n",
            "(3, 4)\n",
            "--------------------------\n",
            "[3. 7. 3. 4. 1. 4. 2. 2. 7. 2. 4. 9.]\n",
            "--------------------------\n",
            "[[3. 7.]\n",
            " [3. 4.]\n",
            " [1. 4.]\n",
            " [2. 2.]\n",
            " [7. 2.]\n",
            " [4. 9.]]\n",
            "--------------------------\n",
            "(4, 3)\n",
            "--------------------------\n",
            "(3, 4)\n"
          ],
          "name": "stdout"
        }
      ]
    },
    {
      "cell_type": "code",
      "metadata": {
        "id": "rs5YtIjzKcpj",
        "colab_type": "code",
        "colab": {
          "base_uri": "https://localhost:8080/",
          "height": 71
        },
        "outputId": "d8f7b3b9-4188-4054-c793-74a2f1d155a8"
      },
      "source": [
        "#The reshape function returns its argument with a modified shape,whereas the ndarray.resize method modifies the array itself:\n",
        "a.resize(2,6)\n",
        "a"
      ],
      "execution_count": null,
      "outputs": [
        {
          "output_type": "execute_result",
          "data": {
            "text/plain": [
              "array([[3., 7., 3., 4., 1., 4.],\n",
              "       [2., 2., 7., 2., 4., 9.]])"
            ]
          },
          "metadata": {
            "tags": []
          },
          "execution_count": 42
        }
      ]
    },
    {
      "cell_type": "code",
      "metadata": {
        "id": "c98bfTiGL_GT",
        "colab_type": "code",
        "colab": {
          "base_uri": "https://localhost:8080/",
          "height": 88
        },
        "outputId": "f6fe0e3c-afab-486f-903d-7e685c155e50"
      },
      "source": [
        "#If a dimension is given as -1 in a reshaping operation, the other dimensions are automatically calculated:\n",
        "a.reshape(3,-1)"
      ],
      "execution_count": null,
      "outputs": [
        {
          "output_type": "execute_result",
          "data": {
            "text/plain": [
              "array([[3., 7., 3., 4.],\n",
              "       [1., 4., 2., 2.],\n",
              "       [7., 2., 4., 9.]])"
            ]
          },
          "metadata": {
            "tags": []
          },
          "execution_count": 43
        }
      ]
    },
    {
      "cell_type": "markdown",
      "metadata": {
        "id": "b4h-RgZwMrPu",
        "colab_type": "text"
      },
      "source": [
        "#**Copies and Views**\n",
        "When operating and manipulating arrays, their data is sometimes copied into a new array and sometimes not. This is often a source of confusion for beginners. There are three cases:\n",
        "\n"
      ]
    },
    {
      "cell_type": "markdown",
      "metadata": {
        "id": "UDoNVAsbMzKC",
        "colab_type": "text"
      },
      "source": [
        "**No Copy at All**\n",
        "\n",
        "Simple assignments make no copy of objects or their data.\n",
        "\n",
        "\n",
        "\n",
        "\n",
        "\n"
      ]
    },
    {
      "cell_type": "code",
      "metadata": {
        "id": "T-8Ojv5bM1Q5",
        "colab_type": "code",
        "colab": {
          "base_uri": "https://localhost:8080/",
          "height": 54
        },
        "outputId": "f0968574-ba1f-4df1-9499-7fd9ef29643d"
      },
      "source": [
        "a = np.array([[ 0,  1,  2,  3],\n",
        "              [ 4,  5,  6,  7],\n",
        "             [ 8,  9, 10, 11]])\n",
        "b = a            # no new object is created\n",
        "b is a           # a and b are two names for the same ndarray object\n",
        "\n"
      ],
      "execution_count": null,
      "outputs": [
        {
          "output_type": "execute_result",
          "data": {
            "text/plain": [
              "True"
            ]
          },
          "metadata": {
            "tags": []
          },
          "execution_count": 44
        }
      ]
    },
    {
      "cell_type": "markdown",
      "metadata": {
        "id": "pMNDiVCfNDO6",
        "colab_type": "text"
      },
      "source": [
        "**View or Shallow Copy**\n",
        "\n",
        "Different array objects can share the same data. The view method creates a new array object that looks at the same data.\n",
        "\n",
        "\n",
        "\n"
      ]
    },
    {
      "cell_type": "code",
      "metadata": {
        "id": "0Lsh8eXOM9Es",
        "colab_type": "code",
        "colab": {
          "base_uri": "https://localhost:8080/",
          "height": 54
        },
        "outputId": "edbd9416-c234-4c34-f68d-649a821639bc"
      },
      "source": [
        "c = a.view()\n",
        "c is a\n"
      ],
      "execution_count": null,
      "outputs": [
        {
          "output_type": "execute_result",
          "data": {
            "text/plain": [
              "False"
            ]
          },
          "metadata": {
            "tags": []
          },
          "execution_count": 45
        }
      ]
    },
    {
      "cell_type": "code",
      "metadata": {
        "id": "cp05HLgoNx1Q",
        "colab_type": "code",
        "colab": {
          "base_uri": "https://localhost:8080/",
          "height": 54
        },
        "outputId": "64e32d81-42c1-47e2-ef5f-5e455de79f09"
      },
      "source": [
        "c.base is a  # c is a view of the data owned by a\n"
      ],
      "execution_count": null,
      "outputs": [
        {
          "output_type": "execute_result",
          "data": {
            "text/plain": [
              "True"
            ]
          },
          "metadata": {
            "tags": []
          },
          "execution_count": 46
        }
      ]
    },
    {
      "cell_type": "code",
      "metadata": {
        "id": "3W-N3UQlN1cb",
        "colab_type": "code",
        "colab": {
          "base_uri": "https://localhost:8080/",
          "height": 54
        },
        "outputId": "f54eaf8c-10dc-4795-d7a1-59f0c5231607"
      },
      "source": [
        "c.flags.owndata"
      ],
      "execution_count": null,
      "outputs": [
        {
          "output_type": "execute_result",
          "data": {
            "text/plain": [
              "False"
            ]
          },
          "metadata": {
            "tags": []
          },
          "execution_count": 47
        }
      ]
    },
    {
      "cell_type": "code",
      "metadata": {
        "id": "U7BpLTU4N4LB",
        "colab_type": "code",
        "colab": {
          "base_uri": "https://localhost:8080/",
          "height": 122
        },
        "outputId": "7d3bb99f-e9bb-4f43-86a8-55af50406782"
      },
      "source": [
        "c = c.reshape((2, 6)) \n",
        "print(a)\n",
        "print(c)"
      ],
      "execution_count": null,
      "outputs": [
        {
          "output_type": "stream",
          "text": [
            "[[ 0  1  2  3]\n",
            " [ 4  5  6  7]\n",
            " [ 8  9 10 11]]\n",
            "[[ 0  1  2  3  4  5]\n",
            " [ 6  7  8  9 10 11]]\n"
          ],
          "name": "stdout"
        }
      ]
    },
    {
      "cell_type": "code",
      "metadata": {
        "id": "PTw35H68N7QI",
        "colab_type": "code",
        "colab": {
          "base_uri": "https://localhost:8080/",
          "height": 88
        },
        "outputId": "5d6ac9bf-6ac1-4381-d335-4152cb380e1a"
      },
      "source": [
        "c[0, 4] = 1234    # a's data changes\n",
        "a                  "
      ],
      "execution_count": null,
      "outputs": [
        {
          "output_type": "execute_result",
          "data": {
            "text/plain": [
              "array([[   0,    1,    2,    3],\n",
              "       [1234,    5,    6,    7],\n",
              "       [   8,    9,   10,   11]])"
            ]
          },
          "metadata": {
            "tags": []
          },
          "execution_count": 49
        }
      ]
    },
    {
      "cell_type": "markdown",
      "metadata": {
        "id": "8Q0aqvezOjYD",
        "colab_type": "text"
      },
      "source": [
        "Slicing an array returns a view of it:\n",
        "\n"
      ]
    },
    {
      "cell_type": "code",
      "metadata": {
        "id": "Q3_RCAtXOW6A",
        "colab_type": "code",
        "colab": {
          "base_uri": "https://localhost:8080/",
          "height": 88
        },
        "outputId": "4f41cebe-92a9-448f-90af-a1710d29b6f1"
      },
      "source": [
        "s = a[ : , 1:3] \n",
        "s[:] = 10        \n",
        "# s[:] is a view of s. Note the difference between s = 10 and s[:] = 10\n",
        "a"
      ],
      "execution_count": null,
      "outputs": [
        {
          "output_type": "execute_result",
          "data": {
            "text/plain": [
              "array([[   0,   10,   10,    3],\n",
              "       [1234,   10,   10,    7],\n",
              "       [   8,   10,   10,   11]])"
            ]
          },
          "metadata": {
            "tags": []
          },
          "execution_count": 50
        }
      ]
    },
    {
      "cell_type": "markdown",
      "metadata": {
        "id": "OJO-nO03O1O_",
        "colab_type": "text"
      },
      "source": [
        "**Deep Copy**\n",
        "\n",
        "The copy method makes a complete copy of the array and its data.\n",
        "\n"
      ]
    },
    {
      "cell_type": "code",
      "metadata": {
        "id": "yifB_l_vOsdx",
        "colab_type": "code",
        "colab": {
          "base_uri": "https://localhost:8080/",
          "height": 54
        },
        "outputId": "e67e8117-1df2-46a9-edca-21a0cf01b137"
      },
      "source": [
        "d = a.copy() # a new array object with new data is created\n",
        "d is a"
      ],
      "execution_count": null,
      "outputs": [
        {
          "output_type": "execute_result",
          "data": {
            "text/plain": [
              "False"
            ]
          },
          "metadata": {
            "tags": []
          },
          "execution_count": 51
        }
      ]
    },
    {
      "cell_type": "code",
      "metadata": {
        "id": "TTJd62guPJ0F",
        "colab_type": "code",
        "colab": {
          "base_uri": "https://localhost:8080/",
          "height": 54
        },
        "outputId": "90368981-dbdd-446e-bdd3-a869905b03b7"
      },
      "source": [
        "d.base is a"
      ],
      "execution_count": null,
      "outputs": [
        {
          "output_type": "execute_result",
          "data": {
            "text/plain": [
              "False"
            ]
          },
          "metadata": {
            "tags": []
          },
          "execution_count": 52
        }
      ]
    },
    {
      "cell_type": "code",
      "metadata": {
        "id": "HfGGw1D3PLYB",
        "colab_type": "code",
        "colab": {
          "base_uri": "https://localhost:8080/",
          "height": 139
        },
        "outputId": "e2cfad60-0a9d-470b-d69b-0ae0bcb5793e"
      },
      "source": [
        "d[0,0] = 9999\n",
        "print(a)\n",
        "print(d)"
      ],
      "execution_count": null,
      "outputs": [
        {
          "output_type": "stream",
          "text": [
            "[[   0   10   10    3]\n",
            " [1234   10   10    7]\n",
            " [   8   10   10   11]]\n",
            "[[9999   10   10    3]\n",
            " [1234   10   10    7]\n",
            " [   8   10   10   11]]\n"
          ],
          "name": "stdout"
        }
      ]
    },
    {
      "cell_type": "code",
      "metadata": {
        "id": "QIJKga8fPPX_",
        "colab_type": "code",
        "colab": {}
      },
      "source": [
        ""
      ],
      "execution_count": null,
      "outputs": []
    }
  ]
}